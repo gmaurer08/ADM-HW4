{
 "cells": [
  {
   "cell_type": "markdown",
   "metadata": {},
   "source": [
    "## 4. Algorithmic Question\n",
    "\n",
    "Two brilliant strategists, Arya and Mario, are about to play a game with a sequence of numbers. Arya, as player 1, begins the game, while Mario, player 2, plays 2nd. Their goal is clear: to collect the highest possible score by taking numbers from either end of the sequence, one at a time. They will play in perfect synchronicity, each seeking the advantage.\n",
    "\n",
    "The sequence represented as an array of `nums,` is laid out in front of them. Arya will start by selecting either the number at the beginning (`nums[0]`) or the end (`nums[nums.length - 1]`) of the array, adding that value to her score. This value is then removed from the beginning or the end of `nums`. Then, it’s Mario’s turn to do the same with the remaining sequence. The game proceeds this way, with each player taking numbers from either end until no numbers are left to claim. The player with the highest score wins.\n",
    "\n",
    "However, if they end in a tie, Arya, as the first to act, will claim victory by default.\n",
    "\n",
    "Arya is now before you, asking for help to predict her chances. She wants to know, with her best possible choices, whether she can guarantee a win, assuming both players play with perfect skill.\n",
    "\n",
    "1) Help Arya by providing a pseudocode for finding an optimal playing strategy, that is, a strategy that maximizes her value. (Hint: Use recursion, assuming that both players play optimally).\n",
    "\n",
    "2) Write a Python program implementing her game strategy. Try different array lengths to test the algorithm.\n",
    "\n",
    "3) Is the algorithm efficient? Prove that it is polynomial and provide an asymptotic time complexity bound, or show that it requires exponential time.\n",
    "\n",
    "4) If the algorithm is exponential, explain how to make it polynomial and provide a pseudocode for it. Recompute the computational complexity of the updated algorithm.\n",
    "\n",
    "5) Implement the algorithm in Python. Compare your result values with the previous algorithm. Also compare the running times.\n",
    "\n",
    "6) Finally, consult LLM (ChatGPT, Claude AI, Gemini, Perplexity, etc.) to craft a third, optimized implementation and analyze its time complexity. Also, explain if the LLM is doing a good job and how you can evaluate whether the suggested solution works properly.\n"
   ]
  },
  {
   "cell_type": "markdown",
   "metadata": {},
   "source": [
    "### 4.1"
   ]
  },
  {
   "cell_type": "markdown",
   "metadata": {},
   "source": [
    "This function recursively computes the optimal score for Arya minus the other player's score, assuming both players play optimally. Arya (player 0) maximizes her score, while the opponent (player 1) minimizes Arya's score.\n",
    "\n",
    "```plaintext\n",
    "FUNCTION best_scores(nums: list, player: integer) -> integer:\n",
    "\n",
    "    IF length of nums == 0 THEN:\n",
    "        RETURN 0\n",
    "\n",
    "    IF player == 0 THEN: \n",
    "        first_score = nums[0] + best_scores(sublist of nums excluding first element, 1)\n",
    "        last_score = nums[length of nums - 1] + best_scores(sublist of nums excluding last element, 1)\n",
    "        RETURN the maximum of first_score and last_score\n",
    "\n",
    "    ELSE: \n",
    "        first_score = -nums[0] + best_scores(sublist of nums excluding first element, 0)\n",
    "        last_score = -nums[length of nums - 1] + best_scores(sublist of nums excluding last element, 0)\n",
    "        RETURN the minimum of first_score and last_score\n",
    "```\n",
    "\n",
    "If the result is greater than or equal to zero, Arya wins. It's assumed that Arya start the game.\n",
    "```plaintext\n",
    "FUNCTION play_game(nums: list) -> boolean:\n",
    "    RETURN best_scores(nums, 0) >= 0"
   ]
  },
  {
   "cell_type": "markdown",
   "metadata": {},
   "source": [
    "### 4.2"
   ]
  },
  {
   "cell_type": "code",
   "execution_count": 57,
   "metadata": {},
   "outputs": [],
   "source": [
    "def best_scores(nums, player = 0):\n",
    "    \"\"\"\n",
    "    Function to calculate the best scores achievable by the player minus the other player's score\n",
    "\n",
    "    Args:\n",
    "        nums (list) : list of integers representing the numbers in the list\n",
    "        player (int) : integer representing the player whose turn it is. 0 for Arya and 1 for the other player (default is 0, Arya's turn)\n",
    "\n",
    "    Returns:\n",
    "        int: representing the best score achievable by the player minus the other player's score\n",
    "    \"\"\"\n",
    "    \n",
    "    len_nums = len(nums)\n",
    "\n",
    "    #Base case: if there are no numbers left\n",
    "    if len_nums == 0:\n",
    "        return 0\n",
    "    else:\n",
    "        #If the player is 0, then it's Arya's turn\n",
    "        if player == 0:\n",
    "            # Arya will choose the maximum of the two options available to maximize her score\n",
    "            first_score = nums[0] + best_scores(nums[1:], 1)\n",
    "            last_score = nums[-1] + best_scores(nums[:-1], 1)\n",
    "            return max(first_score, last_score)\n",
    "        #If the player is 1, then it's the other player's turn\n",
    "        else:\n",
    "            # The other player will choose the minimum of the two options available to minimize Arya's score\n",
    "            first_score = - nums[0] + best_scores(nums[1:], 0)\n",
    "            last_score = - nums[-1] + best_scores(nums[:-1], 0)\n",
    "            return min(first_score, last_score)\n",
    "        \n",
    "def play_game(nums):\n",
    "    \"\"\" \n",
    "    Function to determine if Arya can win the game. \n",
    "    \n",
    "    Args:\n",
    "        nums (list) : list of integers representing the numbers in the list\n",
    "    \n",
    "    Returns:\n",
    "        bool: True if Arya can win the game, False otherwise\n",
    "    \"\"\"\n",
    "    # Arya will win if her score minus the other player's score is greater than or equal to 0\n",
    "    return best_scores(nums, 0) >= 0"
   ]
  },
  {
   "cell_type": "code",
   "execution_count": 60,
   "metadata": {},
   "outputs": [
    {
     "name": "stdout",
     "output_type": "stream",
     "text": [
      "Input: [1, 5, 2] -> Can Arya win? False\n",
      "Input: [1, 5, 233, 7] -> Can Arya win? True\n",
      "Input: [7, 8, 5] -> Can Arya win? True\n",
      "Input: [1, 100, 2] -> Can Arya win? False\n",
      "Input: [20, 30, 2, 10] -> Can Arya win? True\n",
      "Input: [5, 3, 7, 10] -> Can Arya win? True\n",
      "Input: [8, 15, 3, 7] -> Can Arya win? True\n",
      "Input: [1, 2, 3, 10, 5, 3, 2] -> Can Arya win? False\n"
     ]
    }
   ],
   "source": [
    "# Test the solution\n",
    "test_cases = [\n",
    "    [1, 5, 2],\n",
    "    [1, 5, 233, 7],\n",
    "    [7, 8, 5],\n",
    "    [1, 100, 2],\n",
    "    [20, 30, 2, 10],\n",
    "    [5, 3, 7, 10],\n",
    "    [8, 15, 3, 7],\n",
    "    [1, 2, 3, 10, 5, 3, 2]\n",
    "]\n",
    "\n",
    "for case in test_cases:\n",
    "    print(f\"Input: {case} -> Can Arya win? {play_game(case)}\")"
   ]
  },
  {
   "cell_type": "markdown",
   "metadata": {},
   "source": [
    "### 4.3\n"
   ]
  },
  {
   "cell_type": "markdown",
   "metadata": {},
   "source": [
    "The time complexity of the code above is $O(2^n)$. This can be shown by the following recursive relation:\n",
    "\n",
    "$$\n",
    "\\begin{cases}\n",
    "T(n) = \\text{cost.} & \\quad n = 0 \\\\\n",
    "T(n) = 2T(n-1) &  \\quad n > 0\n",
    "\\end{cases}\n",
    "$$\n",
    "\n",
    "By expanding the recurrence relation step-by-step, we find:\n",
    "$$\n",
    "T(n-i+1) = 2^i(n-i) \n",
    "$$\n",
    "\n",
    "Continuing in this way:\n",
    "\n",
    "$$\n",
    "T(n) = 2^n \\cdot T(0)\n",
    "$$\n",
    "\n",
    "Since $ T(0) = \\text{cost.} $ , we can conclude that:\n",
    "\n",
    "$$\n",
    "T(n) = O(2^n)\n",
    "$$\n",
    "\n",
    "\n"
   ]
  },
  {
   "cell_type": "markdown",
   "metadata": {},
   "source": [
    "### 4.4\n",
    "\n",
    "To reduce the time complexity to polynomial time, we can apply dynamic programming and memoization, storing the information about the best scores in a dictionary with keys being the sublists and the player. In this way, we achieve a time complexity of $O(n^2)$ since each sublist is defined by a range of indices, and for each sublist, we can have two players. Below is the pseudocode:\n",
    "\n",
    "```plaintext\n",
    "FUNCTION best_scores(nums: list, player: integer, table: dictionary) -> integer:\n",
    "\n",
    "    if (tuple(nums), player) in table:\n",
    "        return table[(tuple(nums), player)]\n",
    "\n",
    "    IF length of nums == 0 THEN:\n",
    "        RETURN 0\n",
    "\n",
    "    IF player == 0 THEN: \n",
    "        first_score = nums[0] + best_scores(sublist of nums excluding first element, 1)\n",
    "        last_score = nums[length of nums - 1] + best_scores(sublist of nums excluding last element, 1)\n",
    "        result = the maximum of first_score and last_score\n",
    "\n",
    "    ELSE: \n",
    "        first_score = -nums[0] + best_scores(sublist of nums excluding first element, 0)\n",
    "        last_score = -nums[length of nums - 1] + best_scores(sublist of nums excluding last element, 0)\n",
    "        result = the minimum of first_score and last_score\n",
    "    \n",
    "    table[(tuple(nums), player)] = result\n",
    "    RETURN result\n",
    "\n",
    "FUNCTION play_game(nums: list) -> boolean:\n",
    "    table = {}\n",
    "    RETURN best_scores(nums, 0, table) >= 0\n",
    "\n",
    "```"
   ]
  },
  {
   "cell_type": "markdown",
   "metadata": {},
   "source": [
    "### 4.5"
   ]
  },
  {
   "cell_type": "code",
   "execution_count": null,
   "metadata": {},
   "outputs": [],
   "source": [
    "def best_scores_poly(nums, player, table):\n",
    "    \"\"\"\n",
    "    Function to calculate the best scores achievable by the player minus the other player's score using memoization\n",
    "\n",
    "    Args:\n",
    "        nums (list) : list of integers representing the numbers in the list\n",
    "        player (int) : integer representing the player whose turn it is. 0 for Arya and 1 for the other player\n",
    "        table (dict) : dictionary to store the computed results\n",
    "    \n",
    "    Returns:\n",
    "        int: representing the best score achievable by the player minus the other player's score\n",
    "\n",
    "    \"\"\"\n",
    "    # Use a tuple of the list and player as the memoization key\n",
    "    if (tuple(nums), player) in table:\n",
    "        return table[(tuple(nums), player)]\n",
    "    \n",
    "    # Base case: If the list is empty, return 0 (no more score to gain)\n",
    "    if len(nums) == 0:\n",
    "        return 0\n",
    "\n",
    "    if player == 0:  # Arya's turn, she maximizes her score\n",
    "        first_score = nums[0] + best_scores_poly(nums[1:], 1, table)  \n",
    "        last_score = nums[-1] + best_scores_poly(nums[:-1], 1, table)  \n",
    "        result = max(first_score, last_score)\n",
    "    else:  # Opponent's turn, they minimize Arya's score\n",
    "        first_score = -nums[0] + best_scores_poly(nums[1:], 0, table) \n",
    "        last_score = -nums[-1] + best_scores_poly(nums[:-1], 0, table)  \n",
    "        result = min(first_score, last_score)\n",
    "\n",
    "    # Store the computed result in the memoization table\n",
    "    table[(tuple(nums), player)] = result\n",
    "    return result\n",
    "\n",
    "def play_game_poly(nums):\n",
    "    \"\"\"\n",
    "    Function to determine if Arya can win the game using memoization\n",
    "\n",
    "    Args:\n",
    "        nums (list) : list of integers representing the numbers in the list\n",
    "\n",
    "    Returns:\n",
    "        bool: True if Arya can win the game, False otherwise\n",
    "    \"\"\"\n",
    "    table = {}  # Initialize the memoization dictionary\n",
    "    return best_scores_poly(nums, 0, table) >= 0 \n"
   ]
  },
  {
   "cell_type": "code",
   "execution_count": 74,
   "metadata": {},
   "outputs": [
    {
     "name": "stdout",
     "output_type": "stream",
     "text": [
      "Input: [2, 100, 7, 3, 10, 2, 5, 8, 9, 10, 5, 6, 10, 23, 1, 9, 3, 1, 5, 23, 8, 2, 10, 4] -> Can Arya win? True\n",
      "--- 4.5478074551 seconds ---\n",
      "Input: [2, 100, 7, 3, 10, 2, 5, 8, 9, 10, 5, 6, 10, 23, 1, 9, 3, 1, 5, 23, 8, 2, 10, 4] -> Can Arya win? True\n",
      "--- 0.0135886669 seconds ---\n"
     ]
    }
   ],
   "source": [
    "import time\n",
    "\n",
    "# Test a long list input\n",
    "case = [2, 100, 7, 3, 10, 2, 5, 8, 9, 10, 5, 6, 10, 23, 1, 9, 3, 1, 5, 23, 8, 2, 10, 4]\n",
    "\n",
    "start_time = time.time()\n",
    "print(f\"Input: {case} -> Can Arya win? {play_game(case)}\")\n",
    "print(\"--- %.10f seconds ---\" % (time.time() - start_time))\n",
    "\n",
    "start_time = time.time()\n",
    "print(f\"Input: {case} -> Can Arya win? {play_game_poly(case)}\")\n",
    "print(\"--- %.10f seconds ---\" % (time.time() - start_time))"
   ]
  },
  {
   "cell_type": "markdown",
   "metadata": {},
   "source": [
    "As we can see from the results, the first code (which is exponential in time complexity) takes 4.54 seconds to execute, while the optimized polynomial-time code runs in 0.01 seconds. This significant improvement in execution time demonstrates the power of memoization and dynamic programming, as it avoids redundant recalculations by storing intermediate results."
   ]
  },
  {
   "cell_type": "markdown",
   "metadata": {},
   "source": [
    "### 4.6"
   ]
  },
  {
   "cell_type": "markdown",
   "metadata": {},
   "source": [
    "The solution provided by the LLM (ChatGPT) uses **dynamic programming (DP)** to simulate optimal gameplay for both players, ensuring they make the best possible choices at every step. The LLM suggests using a 2D DP table, `dp[i][j]`, where each entry stores the maximum score the current player can achieve from the subarray `nums[i]` to `nums[j]`. For each subarray, the current player can pick either the first or last number. The solution computes the maximum possible score by recursively considering the opponent’s optimal move on the remaining subarray. When there’s only one element left, the player picks that element, which is straightforward.\n",
    "The LLM uses a formula to calculate the DP values:\n",
    "   $$\n",
    "   dp[i][j] = \\max\\left(nums[i] + \\min(dp[i+2][j], dp[i+1][j-1]), nums[j] + \\min(dp[i+1][j-1], dp[i][j-2])\\right)\n",
    "   $$\n",
    "This formula ensures that the current player’s score is maximized while accounting for the opponent’s choices. So, at the end, we will have at position `dp[0][n-1]`, which represents the maximum score obtained from the list, the final maximum score obtain by Arya. If it's greater than or equal to the half of the sum of all the numbers, Arya can win the game. \n",
    "\n",
    "The time complexity of the solution is $O(n^2)$, where *n* is the length of the input array. This is due to the need to fill an `n x n` DP table, with each entry requiring constant time to compute.\n",
    "\n",
    "Below the code:"
   ]
  },
  {
   "cell_type": "code",
   "execution_count": null,
   "metadata": {},
   "outputs": [],
   "source": [
    "def predictWinner(nums):\n",
    "    n = len(nums)\n",
    "    # dp[i][j] will store the maximum score the current player can get from subarray nums[i] to nums[j]\n",
    "    dp = [[0] * n for _ in range(n)]\n",
    "    \n",
    "    # Base case: when the subarray length is 1, the player can only pick that one number\n",
    "    for i in range(n):\n",
    "        dp[i][i] = nums[i]\n",
    "    \n",
    "    # Fill the dp table for all subarrays of length 2 to n\n",
    "    for length in range(2, n + 1):  # length of the subarray\n",
    "        for i in range(n - length + 1):\n",
    "            j = i + length - 1\n",
    "            # Current player picks either nums[i] or nums[j]\n",
    "            dp[i][j] = max(\n",
    "                nums[i] + min(dp[i+2][j] if i+2 <= j else 0, dp[i+1][j-1] if i+1 <= j-1 else 0),\n",
    "                nums[j] + min(dp[i+1][j-1] if i+1 <= j-1 else 0, dp[i][j-2] if i <= j-2 else 0)\n",
    "            )\n",
    "    \n",
    "    # Arya can guarantee a win if she can get a score >= half of the total sum\n",
    "    total_sum = sum(nums)\n",
    "    return dp[0][n-1] * 2 >= total_sum"
   ]
  }
 ],
 "metadata": {
  "kernelspec": {
   "display_name": "Python 3",
   "language": "python",
   "name": "python3"
  },
  "language_info": {
   "codemirror_mode": {
    "name": "ipython",
    "version": 3
   },
   "file_extension": ".py",
   "mimetype": "text/x-python",
   "name": "python",
   "nbconvert_exporter": "python",
   "pygments_lexer": "ipython3",
   "version": "3.11.9"
  }
 },
 "nbformat": 4,
 "nbformat_minor": 4
}
